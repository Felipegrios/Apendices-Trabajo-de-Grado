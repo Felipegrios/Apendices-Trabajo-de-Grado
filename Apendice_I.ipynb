{
 "cells": [
  {
   "cell_type": "code",
   "execution_count": 1,
   "metadata": {},
   "outputs": [],
   "source": [
    "# Imports necesarios\n",
    "%matplotlib inline\n",
    "import numpy as np\n",
    "import pandas as pd\n",
    "import seaborn as sns\n",
    "import matplotlib.pyplot as plt\n",
    "\n",
    "from sklearn.linear_model import LinearRegression\n",
    "from sklearn.metrics import mean_squared_error"
   ]
  },
  {
   "cell_type": "code",
   "execution_count": 2,
   "metadata": {},
   "outputs": [],
   "source": [
    "#cargamos los datos de entrada\n",
    "\n",
    "sns.set_style(\"darkgrid\")\n",
    "\n",
    "path_file = \"C:/Users/user/Desktop/pipe/Proyecto/Datos_Generales/Apendice_D.xlsx\"\n",
    "\n",
    "dta = pd.read_excel(path_file)\n",
    "df = pd.DataFrame(dta)"
   ]
  },
  {
   "cell_type": "code",
   "execution_count": 3,
   "metadata": {},
   "outputs": [
    {
     "data": {
      "text/plain": [
       "(3630, 3)"
      ]
     },
     "execution_count": 3,
     "metadata": {},
     "output_type": "execute_result"
    }
   ],
   "source": [
    "#veamos cuantas dimensiones y registros contiene\n",
    "dta.shape"
   ]
  },
  {
   "cell_type": "code",
   "execution_count": 4,
   "metadata": {},
   "outputs": [
    {
     "data": {
      "text/html": [
       "<div>\n",
       "<style scoped>\n",
       "    .dataframe tbody tr th:only-of-type {\n",
       "        vertical-align: middle;\n",
       "    }\n",
       "\n",
       "    .dataframe tbody tr th {\n",
       "        vertical-align: top;\n",
       "    }\n",
       "\n",
       "    .dataframe thead th {\n",
       "        text-align: right;\n",
       "    }\n",
       "</style>\n",
       "<table border=\"1\" class=\"dataframe\">\n",
       "  <thead>\n",
       "    <tr style=\"text-align: right;\">\n",
       "      <th></th>\n",
       "      <th>comp1</th>\n",
       "      <th>comp2</th>\n",
       "      <th>VENTA</th>\n",
       "    </tr>\n",
       "  </thead>\n",
       "  <tbody>\n",
       "    <tr>\n",
       "      <th>0</th>\n",
       "      <td>0.007035</td>\n",
       "      <td>0.000527</td>\n",
       "      <td>0.420915</td>\n",
       "    </tr>\n",
       "    <tr>\n",
       "      <th>1</th>\n",
       "      <td>-0.012700</td>\n",
       "      <td>0.003650</td>\n",
       "      <td>0.455799</td>\n",
       "    </tr>\n",
       "    <tr>\n",
       "      <th>2</th>\n",
       "      <td>0.007035</td>\n",
       "      <td>0.000527</td>\n",
       "      <td>0.284335</td>\n",
       "    </tr>\n",
       "    <tr>\n",
       "      <th>3</th>\n",
       "      <td>-0.015216</td>\n",
       "      <td>-0.000089</td>\n",
       "      <td>0.447846</td>\n",
       "    </tr>\n",
       "    <tr>\n",
       "      <th>4</th>\n",
       "      <td>0.007035</td>\n",
       "      <td>0.000527</td>\n",
       "      <td>0.407667</td>\n",
       "    </tr>\n",
       "    <tr>\n",
       "      <th>...</th>\n",
       "      <td>...</td>\n",
       "      <td>...</td>\n",
       "      <td>...</td>\n",
       "    </tr>\n",
       "    <tr>\n",
       "      <th>3625</th>\n",
       "      <td>-0.019602</td>\n",
       "      <td>-0.000039</td>\n",
       "      <td>0.322389</td>\n",
       "    </tr>\n",
       "    <tr>\n",
       "      <th>3626</th>\n",
       "      <td>-0.018018</td>\n",
       "      <td>0.000140</td>\n",
       "      <td>0.409969</td>\n",
       "    </tr>\n",
       "    <tr>\n",
       "      <th>3627</th>\n",
       "      <td>-0.014546</td>\n",
       "      <td>-0.005195</td>\n",
       "      <td>0.395980</td>\n",
       "    </tr>\n",
       "    <tr>\n",
       "      <th>3628</th>\n",
       "      <td>-0.004313</td>\n",
       "      <td>-0.003408</td>\n",
       "      <td>0.584510</td>\n",
       "    </tr>\n",
       "    <tr>\n",
       "      <th>3629</th>\n",
       "      <td>-0.019620</td>\n",
       "      <td>0.000071</td>\n",
       "      <td>0.326728</td>\n",
       "    </tr>\n",
       "  </tbody>\n",
       "</table>\n",
       "<p>3630 rows × 3 columns</p>\n",
       "</div>"
      ],
      "text/plain": [
       "         comp1     comp2     VENTA\n",
       "0     0.007035  0.000527  0.420915\n",
       "1    -0.012700  0.003650  0.455799\n",
       "2     0.007035  0.000527  0.284335\n",
       "3    -0.015216 -0.000089  0.447846\n",
       "4     0.007035  0.000527  0.407667\n",
       "...        ...       ...       ...\n",
       "3625 -0.019602 -0.000039  0.322389\n",
       "3626 -0.018018  0.000140  0.409969\n",
       "3627 -0.014546 -0.005195  0.395980\n",
       "3628 -0.004313 -0.003408  0.584510\n",
       "3629 -0.019620  0.000071  0.326728\n",
       "\n",
       "[3630 rows x 3 columns]"
      ]
     },
     "execution_count": 4,
     "metadata": {},
     "output_type": "execute_result"
    }
   ],
   "source": [
    "# Ahora veamos algunas estadísticas de nuestros datos\n",
    "dta"
   ]
  },
  {
   "cell_type": "code",
   "execution_count": 5,
   "metadata": {},
   "outputs": [],
   "source": [
    "#sns.set(color_codes=True)\n",
    "\n",
    "#g = sns.pairplot(dta, diag_kind='hist', palette=\"viridis\")\n",
    "#for ax in g.axes.flat:\n",
    "#    plt.setp(ax.get_xticklabels(), rotation = 45)"
   ]
  },
  {
   "cell_type": "code",
   "execution_count": 6,
   "metadata": {},
   "outputs": [],
   "source": [
    "#sns.relplot(x = \"VENTA\", y = \"TOTAL_REM2\", data = dta)\n",
    "#sns.relplot(x = \"VENTA\", y = \"TOTPERSO\", data = dta)\n",
    "#sns.relplot(x = \"VENTA\", y = \"comp1\", data = dta, kind = \"scatter\")\n",
    "#sns.relplot(x = \"VENTA\", y = \"comp2\", data = dta, kind = \"scatter\")\n"
   ]
  },
  {
   "cell_type": "code",
   "execution_count": 7,
   "metadata": {},
   "outputs": [
    {
     "name": "stdout",
     "output_type": "stream",
     "text": [
      "             0         1\n",
      "0     0.007035  0.000527\n",
      "1    -0.012700  0.003650\n",
      "2     0.007035  0.000527\n",
      "3    -0.015216 -0.000089\n",
      "4     0.007035  0.000527\n",
      "...        ...       ...\n",
      "3625 -0.019602 -0.000039\n",
      "3626 -0.018018  0.000140\n",
      "3627 -0.014546 -0.005195\n",
      "3628 -0.004313 -0.003408\n",
      "3629 -0.019620  0.000071\n",
      "\n",
      "[3630 rows x 2 columns]\n",
      "         VENTA\n",
      "0     0.420915\n",
      "1     0.455799\n",
      "2     0.284335\n",
      "3     0.447846\n",
      "4     0.407667\n",
      "...        ...\n",
      "3625  0.322389\n",
      "3626  0.409969\n",
      "3627  0.395980\n",
      "3628  0.584510\n",
      "3629  0.326728\n",
      "\n",
      "[3630 rows x 1 columns]\n"
     ]
    }
   ],
   "source": [
    "X = pd.DataFrame(dta.iloc[:,0:2].values)\n",
    "print(X)\n",
    "\n",
    "y = dta.iloc[:,[2]]\n",
    "print(y)"
   ]
  },
  {
   "cell_type": "code",
   "execution_count": 8,
   "metadata": {},
   "outputs": [],
   "source": [
    "reg = LinearRegression()\n",
    "reg = reg.fit(X, y)\n",
    "\n",
    "y_pred = reg.predict(X)\n",
    "error = np.sqrt(mean_squared_error(y, y_pred))\n",
    "r2 = reg.score(X, y)"
   ]
  },
  {
   "cell_type": "code",
   "execution_count": 9,
   "metadata": {},
   "outputs": [
    {
     "name": "stdout",
     "output_type": "stream",
     "text": [
      "El error es:  0.08967707968225035\n",
      "El valor de r^2 es:  0.38407152847810244\n",
      "Los coeficientes son:  [[ 1.66718015 -1.03723989]]\n"
     ]
    }
   ],
   "source": [
    "print(\"El error es: \", error)\n",
    "print(\"El valor de r^2 es: \", r2)\n",
    "print(\"Los coeficientes son: \", reg.coef_)"
   ]
  },
  {
   "cell_type": "code",
   "execution_count": null,
   "metadata": {},
   "outputs": [],
   "source": []
  }
 ],
 "metadata": {
  "kernelspec": {
   "display_name": "Python 3",
   "language": "python",
   "name": "python3"
  },
  "language_info": {
   "codemirror_mode": {
    "name": "ipython",
    "version": 3
   },
   "file_extension": ".py",
   "mimetype": "text/x-python",
   "name": "python",
   "nbconvert_exporter": "python",
   "pygments_lexer": "ipython3",
   "version": "3.7.6"
  }
 },
 "nbformat": 4,
 "nbformat_minor": 4
}
